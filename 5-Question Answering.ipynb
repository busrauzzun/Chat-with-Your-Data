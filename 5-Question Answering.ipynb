{
 "cells": [
  {
   "metadata": {
    "ExecuteTime": {
     "end_time": "2024-11-24T08:12:31.096634Z",
     "start_time": "2024-11-24T08:12:31.065098Z"
    }
   },
   "cell_type": "code",
   "source": [
    "from dotenv import load_dotenv\n",
    "load_dotenv()"
   ],
   "id": "d3a91d07ccfbfa6",
   "outputs": [
    {
     "data": {
      "text/plain": [
       "True"
      ]
     },
     "execution_count": 1,
     "metadata": {},
     "output_type": "execute_result"
    }
   ],
   "execution_count": 1
  },
  {
   "metadata": {
    "ExecuteTime": {
     "end_time": "2024-11-24T11:11:57.877597Z",
     "start_time": "2024-11-24T11:11:57.306228Z"
    }
   },
   "cell_type": "code",
   "source": [
    "from langchain_chroma import Chroma\n",
    "from langchain.embeddings.openai import OpenAIEmbeddings\n",
    "\n",
    "persist_directory = 'docs/chroma/'\n",
    "embedding = OpenAIEmbeddings()\n",
    "vectordb = Chroma(persist_directory=persist_directory, embedding_function=embedding)"
   ],
   "id": "245aa87c6da0317",
   "outputs": [],
   "execution_count": 12
  },
  {
   "metadata": {
    "ExecuteTime": {
     "end_time": "2024-11-24T11:13:52.875030Z",
     "start_time": "2024-11-24T11:13:45.230290Z"
    }
   },
   "cell_type": "code",
   "source": [
    "from langchain.document_loaders import PyPDFLoader\n",
    "loaders = [\n",
    "    PyPDFLoader(\"LectureNotes/cs229-notes1.pdf\"),\n",
    "    PyPDFLoader(\"LectureNotes/cs229-notes1.pdf\"),\n",
    "    PyPDFLoader(\"LectureNotes/cs229-notes2.pdf\"),\n",
    "    PyPDFLoader(\"LectureNotes/cs229-notes3.pdf\")\n",
    "]\n",
    "docs = []\n",
    "for loader in loaders:\n",
    "    docs.extend(loader.load())"
   ],
   "id": "cf3bd72cc376a6ed",
   "outputs": [],
   "execution_count": 14
  },
  {
   "metadata": {
    "ExecuteTime": {
     "end_time": "2024-11-24T11:13:55.081687Z",
     "start_time": "2024-11-24T11:13:55.061054Z"
    }
   },
   "cell_type": "code",
   "source": [
    "from langchain.text_splitter import RecursiveCharacterTextSplitter\n",
    "text_splitter = RecursiveCharacterTextSplitter(\n",
    "    chunk_size = 1500,\n",
    "    chunk_overlap = 150\n",
    ")"
   ],
   "id": "1a79f78345c5596",
   "outputs": [],
   "execution_count": 15
  },
  {
   "metadata": {
    "ExecuteTime": {
     "end_time": "2024-11-24T11:14:01.549052Z",
     "start_time": "2024-11-24T11:14:01.532807Z"
    }
   },
   "cell_type": "code",
   "source": "splits = text_splitter.split_documents(docs)",
   "id": "98be12a0c7dd8d43",
   "outputs": [],
   "execution_count": 16
  },
  {
   "metadata": {
    "ExecuteTime": {
     "end_time": "2024-11-24T11:14:10.298917Z",
     "start_time": "2024-11-24T11:14:06.883048Z"
    }
   },
   "cell_type": "code",
   "source": [
    "vectordb = Chroma.from_documents(\n",
    "    documents=splits,\n",
    "    embedding=embedding,\n",
    "    persist_directory=persist_directory\n",
    ")"
   ],
   "id": "c356a4b057eea1c5",
   "outputs": [],
   "execution_count": 17
  },
  {
   "metadata": {
    "ExecuteTime": {
     "end_time": "2024-11-24T11:14:14.662012Z",
     "start_time": "2024-11-24T11:14:14.652824Z"
    }
   },
   "cell_type": "code",
   "source": "print(vectordb._collection.count())",
   "id": "7189c75f307d5c5c",
   "outputs": [
    {
     "name": "stdout",
     "output_type": "stream",
     "text": [
      "163\n"
     ]
    }
   ],
   "execution_count": 18
  },
  {
   "metadata": {
    "ExecuteTime": {
     "end_time": "2024-11-24T11:18:24.546899Z",
     "start_time": "2024-11-24T11:18:23.908076Z"
    }
   },
   "cell_type": "code",
   "source": [
    "question = 'What are major topics for  this class?'\n",
    "docs = vectordb.similarity_search(question, k=3)\n",
    "len(docs)"
   ],
   "id": "af7e5da2dcc47500",
   "outputs": [
    {
     "data": {
      "text/plain": [
       "3"
      ]
     },
     "execution_count": 22,
     "metadata": {},
     "output_type": "execute_result"
    }
   ],
   "execution_count": 22
  },
  {
   "metadata": {
    "ExecuteTime": {
     "end_time": "2024-11-24T11:17:49.252605Z",
     "start_time": "2024-11-24T11:17:48.731516Z"
    }
   },
   "cell_type": "code",
   "source": [
    "from langchain.chat_models import ChatOpenAI\n",
    "llm = ChatOpenAI(model='gpt-3.5-turbo', temperature=0)"
   ],
   "id": "477676aaf11005c4",
   "outputs": [
    {
     "name": "stderr",
     "output_type": "stream",
     "text": [
      "C:\\Users\\busra\\AppData\\Local\\Temp\\ipykernel_7528\\2421829196.py:2: LangChainDeprecationWarning: The class `ChatOpenAI` was deprecated in LangChain 0.0.10 and will be removed in 1.0. An updated version of the class exists in the :class:`~langchain-openai package and should be used instead. To use it run `pip install -U :class:`~langchain-openai` and import as `from :class:`~langchain_openai import ChatOpenAI``.\n",
      "  llm = ChatOpenAI(model='gpt-3.5-turbo', temperature=0)\n"
     ]
    }
   ],
   "execution_count": 21
  },
  {
   "metadata": {
    "ExecuteTime": {
     "end_time": "2024-11-24T11:18:40.528068Z",
     "start_time": "2024-11-24T11:18:40.371369Z"
    }
   },
   "cell_type": "code",
   "source": [
    "from langchain.chains import RetrievalQA\n",
    "qa_chain = RetrievalQA.from_chain_type(\n",
    "    llm,\n",
    "    retriever=vectordb.as_retriever()\n",
    ")"
   ],
   "id": "734721b71e28c352",
   "outputs": [],
   "execution_count": 23
  },
  {
   "metadata": {
    "ExecuteTime": {
     "end_time": "2024-11-24T11:18:56.133726Z",
     "start_time": "2024-11-24T11:18:54.040572Z"
    }
   },
   "cell_type": "code",
   "source": [
    "result = qa_chain.invoke({'query':question})\n",
    "result['result']"
   ],
   "id": "7994c88131e48503",
   "outputs": [
    {
     "data": {
      "text/plain": [
       "'The major topics covered in this class include supervised learning, generative learning algorithms, support vector machines, margins, decision boundaries, logistic regression, perceptron algorithm, Lagrange duality, and kernels.'"
      ]
     },
     "execution_count": 24,
     "metadata": {},
     "output_type": "execute_result"
    }
   ],
   "execution_count": 24
  },
  {
   "metadata": {
    "ExecuteTime": {
     "end_time": "2024-11-24T11:22:00.954766Z",
     "start_time": "2024-11-24T11:22:00.951019Z"
    }
   },
   "cell_type": "code",
   "source": [
    "from langchain.prompts import PromptTemplate\n",
    "\n",
    "template = \"\"\"\n",
    "Use the following pieces of context to answer\n",
    "{context}\n",
    "Question: {question}\n",
    "Helpful Answer:\n",
    "\"\"\"\n",
    "QA_CHAIN_PROMPT = PromptTemplate.from_template(template)"
   ],
   "id": "ac2f4dc7129fd9d1",
   "outputs": [],
   "execution_count": 33
  },
  {
   "metadata": {
    "ExecuteTime": {
     "end_time": "2024-11-24T11:22:01.735140Z",
     "start_time": "2024-11-24T11:22:01.724483Z"
    }
   },
   "cell_type": "code",
   "source": [
    "qa_chain = RetrievalQA.from_chain_type(\n",
    "    llm,\n",
    "    retriever=vectordb.as_retriever(),\n",
    "    return_source_documents=True,\n",
    "    chain_type_kwargs={\"prompt\": QA_CHAIN_PROMPT}\n",
    ")"
   ],
   "id": "a1cb79b938a40560",
   "outputs": [],
   "execution_count": 34
  },
  {
   "metadata": {
    "ExecuteTime": {
     "end_time": "2024-11-24T11:22:02.547443Z",
     "start_time": "2024-11-24T11:22:02.542539Z"
    }
   },
   "cell_type": "code",
   "source": "question = \"Is probability a class topic?\"",
   "id": "f827bb73f4497b24",
   "outputs": [],
   "execution_count": 35
  },
  {
   "metadata": {
    "ExecuteTime": {
     "end_time": "2024-11-24T11:22:04.975195Z",
     "start_time": "2024-11-24T11:22:03.400658Z"
    }
   },
   "cell_type": "code",
   "source": "result = qa_chain.invoke({'query':question})",
   "id": "54cf91472fd0dda8",
   "outputs": [],
   "execution_count": 36
  },
  {
   "metadata": {
    "ExecuteTime": {
     "end_time": "2024-11-24T11:22:15.431815Z",
     "start_time": "2024-11-24T11:22:15.422117Z"
    }
   },
   "cell_type": "code",
   "source": "result['result']",
   "id": "8f59d2788cbe9ab5",
   "outputs": [
    {
     "data": {
      "text/plain": [
       "'No, probability is not explicitly mentioned as a class topic in the provided context. The context primarily discusses event models for text classification, logistic regression, and Laplace smoothing in the context of machine learning algorithms. Probability is a fundamental concept in machine learning and is likely covered as part of the foundational knowledge required for understanding these topics, but it is not specifically highlighted as a class topic in this context.'"
      ]
     },
     "execution_count": 37,
     "metadata": {},
     "output_type": "execute_result"
    }
   ],
   "execution_count": 37
  },
  {
   "metadata": {
    "ExecuteTime": {
     "end_time": "2024-11-24T11:22:25.563887Z",
     "start_time": "2024-11-24T11:22:25.557761Z"
    }
   },
   "cell_type": "code",
   "source": "result[\"source_documents\"][0].",
   "id": "987797d742155f2e",
   "outputs": [
    {
     "data": {
      "text/plain": [
       "Document(metadata={'page': 12, 'source': 'LectureNotes/cs229-notes2.pdf'}, page_content='13\\n2.2 Event models for text classiﬁcation\\nTo close oﬀ our discussion of generative learning algorithms, let’s talkabout\\none more model that is speciﬁcally for text classiﬁcation. While Naive B ayes\\nas we’ve presented it will work well for many classiﬁcation problems, f or text\\nclassiﬁcation, there is a related model that does even better.\\nIn the speciﬁc context of text classiﬁcation, Naive Bayes as prese nted uses\\nthe what’s called the multi-variate Bernoulli event model . In this model,\\nwe assumed that the way an email is generated is that ﬁrst it is rando mly\\ndetermined (according to the class priors p(y)) whether a spammer or non-\\nspammer will send you your next message. Then, the person sendin g the\\nemail runs through the dictionary, deciding whether to include each word i\\nin that email independently and according to the probabilities p(xi = 1 |y) =\\nφi|y. Thus, the probability of a message was given by p(y) ∏ n\\ni=1 p(xi|y).\\nHere’s a diﬀerent model, called the multinomial event model . To de-\\nscribe this model, we will use a diﬀerent notation and set of features for\\nrepresenting emails. We let xi denote the identity of the i-th word in the\\nemail. Thus, xi is now an integer taking values in {1, . . . , |V |}, where |V |\\nis the size of our vocabulary (dictionary). An email of n words is now rep-\\nresented by a vector ( x1, x2, . . . , x n) of length n; note that n can vary for\\ndiﬀerent documents. For instance, if an email starts with “A NIPS . . . ,”')"
      ]
     },
     "execution_count": 38,
     "metadata": {},
     "output_type": "execute_result"
    }
   ],
   "execution_count": 38
  },
  {
   "metadata": {
    "ExecuteTime": {
     "end_time": "2024-11-24T11:32:45.127381Z",
     "start_time": "2024-11-24T11:32:45.122177Z"
    }
   },
   "cell_type": "code",
   "source": [
    "qa_chain_mr = RetrievalQA.from_chain_type(\n",
    "    llm,\n",
    "    retriever=vectordb.as_retriever(),\n",
    "    chain_type=\"map_reduce\"\n",
    ")"
   ],
   "id": "7a0f54550d4590bf",
   "outputs": [],
   "execution_count": 39
  },
  {
   "metadata": {
    "ExecuteTime": {
     "end_time": "2024-11-24T11:32:58.935484Z",
     "start_time": "2024-11-24T11:32:54.252054Z"
    }
   },
   "cell_type": "code",
   "source": "result = qa_chain_mr.invoke({\"query\": question})",
   "id": "2cc5d01ceef3383b",
   "outputs": [],
   "execution_count": 40
  },
  {
   "metadata": {
    "ExecuteTime": {
     "end_time": "2024-11-24T11:33:09.012816Z",
     "start_time": "2024-11-24T11:33:09.007863Z"
    }
   },
   "cell_type": "code",
   "source": "result['result']",
   "id": "365811495204cd59",
   "outputs": [
    {
     "data": {
      "text/plain": [
       "'Yes, probability is a class topic discussed in the context of text classification, logistic regression, and the Naive Bayes algorithm.'"
      ]
     },
     "execution_count": 41,
     "metadata": {},
     "output_type": "execute_result"
    }
   ],
   "execution_count": 41
  }
 ],
 "metadata": {
  "kernelspec": {
   "display_name": "Python 3",
   "language": "python",
   "name": "python3"
  },
  "language_info": {
   "codemirror_mode": {
    "name": "ipython",
    "version": 2
   },
   "file_extension": ".py",
   "mimetype": "text/x-python",
   "name": "python",
   "nbconvert_exporter": "python",
   "pygments_lexer": "ipython2",
   "version": "2.7.6"
  }
 },
 "nbformat": 4,
 "nbformat_minor": 5
}
