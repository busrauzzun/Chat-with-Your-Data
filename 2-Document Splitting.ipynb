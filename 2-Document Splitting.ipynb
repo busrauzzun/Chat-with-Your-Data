{
 "cells": [
  {
   "metadata": {
    "ExecuteTime": {
     "end_time": "2024-11-25T15:19:57.232570Z",
     "start_time": "2024-11-25T15:19:55.523659Z"
    }
   },
   "cell_type": "code",
   "source": "from langchain.text_splitter import  RecursiveCharacterTextSplitter, CharacterTextSplitter",
   "id": "319699fe81dcb3c5",
   "outputs": [],
   "execution_count": 1
  },
  {
   "metadata": {
    "ExecuteTime": {
     "end_time": "2024-11-25T15:20:00.465020Z",
     "start_time": "2024-11-25T15:20:00.454223Z"
    }
   },
   "cell_type": "code",
   "source": [
    "chunk_size = 26\n",
    "chunk_overlap = 4"
   ],
   "id": "e5474f6f2a938902",
   "outputs": [],
   "execution_count": 2
  },
  {
   "metadata": {
    "ExecuteTime": {
     "end_time": "2024-11-25T15:20:05.920555Z",
     "start_time": "2024-11-25T15:20:05.914196Z"
    }
   },
   "cell_type": "code",
   "source": [
    "r_splitter = RecursiveCharacterTextSplitter(chunk_size=chunk_size, chunk_overlap=chunk_overlap)\n",
    "c_splitter = CharacterTextSplitter(chunk_size=chunk_size, chunk_overlap=chunk_overlap)"
   ],
   "id": "5dc69dc8147a348f",
   "outputs": [],
   "execution_count": 3
  },
  {
   "metadata": {
    "ExecuteTime": {
     "end_time": "2024-11-25T15:20:12.870173Z",
     "start_time": "2024-11-25T15:20:12.863727Z"
    }
   },
   "cell_type": "code",
   "source": "text1 = 'abcdefghijklmnoprqstuvwxyz'",
   "id": "7e9c5eb8da2c7af9",
   "outputs": [],
   "execution_count": 4
  },
  {
   "metadata": {
    "ExecuteTime": {
     "end_time": "2024-11-25T15:20:18.474977Z",
     "start_time": "2024-11-25T15:20:18.466991Z"
    }
   },
   "cell_type": "code",
   "source": "r_splitter.split_text(text1)",
   "id": "6ffb7d4e4c04d8c4",
   "outputs": [
    {
     "data": {
      "text/plain": [
       "['abcdefghijklmnoprqstuvwxyz']"
      ]
     },
     "execution_count": 5,
     "metadata": {},
     "output_type": "execute_result"
    }
   ],
   "execution_count": 5
  },
  {
   "metadata": {
    "ExecuteTime": {
     "end_time": "2024-11-25T15:20:24.447533Z",
     "start_time": "2024-11-25T15:20:24.442779Z"
    }
   },
   "cell_type": "code",
   "source": "text2 = 'abcdefghijklmnopqrstuvwxyzabcdefg'",
   "id": "7acf772b6cfcf072",
   "outputs": [],
   "execution_count": 6
  },
  {
   "metadata": {
    "ExecuteTime": {
     "end_time": "2024-11-25T15:20:30.332934Z",
     "start_time": "2024-11-25T15:20:30.323900Z"
    }
   },
   "cell_type": "code",
   "source": "r_splitter.split_text(text2)",
   "id": "72bb32a89a742eab",
   "outputs": [
    {
     "data": {
      "text/plain": [
       "['abcdefghijklmnopqrstuvwxyz', 'wxyzabcdefg']"
      ]
     },
     "execution_count": 7,
     "metadata": {},
     "output_type": "execute_result"
    }
   ],
   "execution_count": 7
  },
  {
   "metadata": {
    "ExecuteTime": {
     "end_time": "2024-11-25T15:20:37.076964Z",
     "start_time": "2024-11-25T15:20:37.071776Z"
    }
   },
   "cell_type": "code",
   "source": "text3 = \"a b c d e f g h i j k l m n o p q r s t u v w x y z\"",
   "id": "8c878fc3785e9f6a",
   "outputs": [],
   "execution_count": 8
  },
  {
   "metadata": {
    "ExecuteTime": {
     "end_time": "2024-11-25T15:20:43.193424Z",
     "start_time": "2024-11-25T15:20:43.183828Z"
    }
   },
   "cell_type": "code",
   "source": "r_splitter.split_text(text3)",
   "id": "bdbe930961e7e90a",
   "outputs": [
    {
     "data": {
      "text/plain": [
       "['a b c d e f g h i j k l m', 'l m n o p q r s t u v w x', 'w x y z']"
      ]
     },
     "execution_count": 9,
     "metadata": {},
     "output_type": "execute_result"
    }
   ],
   "execution_count": 9
  },
  {
   "metadata": {
    "ExecuteTime": {
     "end_time": "2024-11-25T15:20:48.943151Z",
     "start_time": "2024-11-25T15:20:48.934Z"
    }
   },
   "cell_type": "code",
   "source": "c_splitter.split_text(text3)",
   "id": "5521ca7acb358b24",
   "outputs": [
    {
     "data": {
      "text/plain": [
       "['a b c d e f g h i j k l m n o p q r s t u v w x y z']"
      ]
     },
     "execution_count": 10,
     "metadata": {},
     "output_type": "execute_result"
    }
   ],
   "execution_count": 10
  },
  {
   "metadata": {
    "ExecuteTime": {
     "end_time": "2024-11-25T15:20:54.408931Z",
     "start_time": "2024-11-25T15:20:54.404027Z"
    }
   },
   "cell_type": "code",
   "source": "c_splitter = CharacterTextSplitter(chunk_size = chunk_size, chunk_overlap = chunk_overlap, separator = ' ')",
   "id": "95a188d8171a7b6",
   "outputs": [],
   "execution_count": 11
  },
  {
   "metadata": {
    "ExecuteTime": {
     "end_time": "2024-11-25T15:21:01.310018Z",
     "start_time": "2024-11-25T15:21:01.302643Z"
    }
   },
   "cell_type": "code",
   "source": "c_splitter.split_text(text3)",
   "id": "ad631954a9aa2db6",
   "outputs": [
    {
     "data": {
      "text/plain": [
       "['a b c d e f g h i j k l m', 'l m n o p q r s t u v w x', 'w x y z']"
      ]
     },
     "execution_count": 12,
     "metadata": {},
     "output_type": "execute_result"
    }
   ],
   "execution_count": 12
  },
  {
   "metadata": {
    "ExecuteTime": {
     "end_time": "2024-11-25T15:21:09.646969Z",
     "start_time": "2024-11-25T15:21:09.642686Z"
    }
   },
   "cell_type": "code",
   "source": "c_splitter = CharacterTextSplitter(chunk_size = 9, chunk_overlap = chunk_overlap, separator = 'm')",
   "id": "439f9c1a10d316f6",
   "outputs": [],
   "execution_count": 13
  },
  {
   "metadata": {
    "ExecuteTime": {
     "end_time": "2024-11-25T15:21:17.065636Z",
     "start_time": "2024-11-25T15:21:17.059370Z"
    }
   },
   "cell_type": "code",
   "source": "c_splitter.split_text(text3)",
   "id": "7d76e39642a807f2",
   "outputs": [
    {
     "name": "stderr",
     "output_type": "stream",
     "text": [
      "Created a chunk of size 24, which is longer than the specified 9\n"
     ]
    },
    {
     "data": {
      "text/plain": [
       "['a b c d e f g h i j k l', 'n o p q r s t u v w x y z']"
      ]
     },
     "execution_count": 14,
     "metadata": {},
     "output_type": "execute_result"
    }
   ],
   "execution_count": 14
  },
  {
   "metadata": {
    "ExecuteTime": {
     "end_time": "2024-11-25T15:21:24.262744Z",
     "start_time": "2024-11-25T15:21:24.253677Z"
    }
   },
   "cell_type": "code",
   "source": [
    "some_text = \"\"\"When writing documents, writers will use document structure to group content. \\\n",
    "This can convey to the reader, which idea's are related. For example, closely related ideas \\\n",
    "are in sentances. Similar ideas are in paragraphs. Paragraphs form a document. \\n\\n  \\\n",
    "Paragraphs are often delimited with a carriage return or two carriage returns. \\\n",
    "Carriage returns are the \"backslash n\" you see embedded in this string. \\\n",
    "Sentences have a period at the end, but also, have a space.\\\n",
    "and words are separated by space.\"\"\""
   ],
   "id": "845ec3f202dc205e",
   "outputs": [],
   "execution_count": 15
  },
  {
   "metadata": {
    "ExecuteTime": {
     "end_time": "2024-11-25T15:21:32.735096Z",
     "start_time": "2024-11-25T15:21:32.726087Z"
    }
   },
   "cell_type": "code",
   "source": "len(some_text)",
   "id": "989528a65b701496",
   "outputs": [
    {
     "data": {
      "text/plain": [
       "496"
      ]
     },
     "execution_count": 16,
     "metadata": {},
     "output_type": "execute_result"
    }
   ],
   "execution_count": 16
  },
  {
   "metadata": {
    "ExecuteTime": {
     "end_time": "2024-11-25T15:21:39.426702Z",
     "start_time": "2024-11-25T15:21:39.422711Z"
    }
   },
   "cell_type": "code",
   "source": [
    "c_splitter = CharacterTextSplitter(chunk_size=450, chunk_overlap=0, separator=' ')\n",
    "r_splitter = RecursiveCharacterTextSplitter(chunk_size=450, chunk_overlap=0, separators=[\"\\n\\n\", \"\\n\", \" \", \"\"])"
   ],
   "id": "4bb2a14b5b7bb1a4",
   "outputs": [],
   "execution_count": 17
  },
  {
   "metadata": {
    "ExecuteTime": {
     "end_time": "2024-11-25T15:21:46.525280Z",
     "start_time": "2024-11-25T15:21:46.512957Z"
    }
   },
   "cell_type": "code",
   "source": "c_splitter.split_text(some_text)",
   "id": "1403ed1bb8b11ff0",
   "outputs": [
    {
     "data": {
      "text/plain": [
       "['When writing documents, writers will use document structure to group content. This can convey to the reader, which idea\\'s are related. For example, closely related ideas are in sentances. Similar ideas are in paragraphs. Paragraphs form a document. \\n\\n Paragraphs are often delimited with a carriage return or two carriage returns. Carriage returns are the \"backslash n\" you see embedded in this string. Sentences have a period at the end, but also,',\n",
       " 'have a space.and words are separated by space.']"
      ]
     },
     "execution_count": 18,
     "metadata": {},
     "output_type": "execute_result"
    }
   ],
   "execution_count": 18
  },
  {
   "metadata": {
    "ExecuteTime": {
     "end_time": "2024-11-25T15:22:09.507798Z",
     "start_time": "2024-11-25T15:22:09.502757Z"
    }
   },
   "cell_type": "code",
   "source": "r_splitter.split_text(some_text)",
   "id": "1f0ccc4e93a48bf4",
   "outputs": [
    {
     "data": {
      "text/plain": [
       "[\"When writing documents, writers will use document structure to group content. This can convey to the reader, which idea's are related. For example, closely related ideas are in sentances. Similar ideas are in paragraphs. Paragraphs form a document.\",\n",
       " 'Paragraphs are often delimited with a carriage return or two carriage returns. Carriage returns are the \"backslash n\" you see embedded in this string. Sentences have a period at the end, but also, have a space.and words are separated by space.']"
      ]
     },
     "execution_count": 19,
     "metadata": {},
     "output_type": "execute_result"
    }
   ],
   "execution_count": 19
  },
  {
   "metadata": {
    "ExecuteTime": {
     "end_time": "2024-11-25T15:22:17.318104Z",
     "start_time": "2024-11-25T15:22:17.309039Z"
    }
   },
   "cell_type": "code",
   "source": [
    "r_splitter = RecursiveCharacterTextSplitter(\n",
    "    chunk_size=150,\n",
    "    chunk_overlap=0,\n",
    "    separators=[\"\\n\\n\", \"\\n\", \"\\. \", \" \", \"\"]\n",
    ")\n",
    "r_splitter.split_text(some_text)"
   ],
   "id": "46958f6a583a534f",
   "outputs": [
    {
     "name": "stderr",
     "output_type": "stream",
     "text": [
      "<>:4: SyntaxWarning: invalid escape sequence '\\.'\n",
      "<>:4: SyntaxWarning: invalid escape sequence '\\.'\n",
      "C:\\Users\\busra\\AppData\\Local\\Temp\\ipykernel_10724\\1050028952.py:4: SyntaxWarning: invalid escape sequence '\\.'\n",
      "  separators=[\"\\n\\n\", \"\\n\", \"\\. \", \" \", \"\"]\n"
     ]
    },
    {
     "data": {
      "text/plain": [
       "[\"When writing documents, writers will use document structure to group content. This can convey to the reader, which idea's are related. For example,\",\n",
       " 'closely related ideas are in sentances. Similar ideas are in paragraphs. Paragraphs form a document.',\n",
       " 'Paragraphs are often delimited with a carriage return or two carriage returns. Carriage returns are the \"backslash n\" you see embedded in this',\n",
       " 'string. Sentences have a period at the end, but also, have a space.and words are separated by space.']"
      ]
     },
     "execution_count": 20,
     "metadata": {},
     "output_type": "execute_result"
    }
   ],
   "execution_count": 20
  },
  {
   "metadata": {
    "ExecuteTime": {
     "end_time": "2024-11-25T15:22:24.292923Z",
     "start_time": "2024-11-25T15:22:24.285900Z"
    }
   },
   "cell_type": "code",
   "source": [
    "r_splitter = RecursiveCharacterTextSplitter(\n",
    "    chunk_size=150,\n",
    "    chunk_overlap=0,\n",
    "    separators=[\"\\n\\n\", \"\\n\", \"(?<=\\. )\", \" \", \"\"]\n",
    ")\n",
    "r_splitter.split_text(some_text)"
   ],
   "id": "39e5fc7c62e26e63",
   "outputs": [
    {
     "name": "stderr",
     "output_type": "stream",
     "text": [
      "<>:4: SyntaxWarning: invalid escape sequence '\\.'\n",
      "<>:4: SyntaxWarning: invalid escape sequence '\\.'\n",
      "C:\\Users\\busra\\AppData\\Local\\Temp\\ipykernel_10724\\2465170736.py:4: SyntaxWarning: invalid escape sequence '\\.'\n",
      "  separators=[\"\\n\\n\", \"\\n\", \"(?<=\\. )\", \" \", \"\"]\n"
     ]
    },
    {
     "data": {
      "text/plain": [
       "[\"When writing documents, writers will use document structure to group content. This can convey to the reader, which idea's are related. For example,\",\n",
       " 'closely related ideas are in sentances. Similar ideas are in paragraphs. Paragraphs form a document.',\n",
       " 'Paragraphs are often delimited with a carriage return or two carriage returns. Carriage returns are the \"backslash n\" you see embedded in this',\n",
       " 'string. Sentences have a period at the end, but also, have a space.and words are separated by space.']"
      ]
     },
     "execution_count": 21,
     "metadata": {},
     "output_type": "execute_result"
    }
   ],
   "execution_count": 21
  },
  {
   "metadata": {
    "ExecuteTime": {
     "end_time": "2024-11-25T15:24:15.903099Z",
     "start_time": "2024-11-25T15:24:14.305251Z"
    }
   },
   "cell_type": "code",
   "source": [
    "from langchain.document_loaders import PyPDFLoader\n",
    "loader = PyPDFLoader(\"LectureNotes/cs229-notes1.pdf\")\n",
    "pages = loader.load()"
   ],
   "id": "9d9b6ff8fcde988",
   "outputs": [],
   "execution_count": 22
  },
  {
   "metadata": {
    "ExecuteTime": {
     "end_time": "2024-11-25T15:24:20.312690Z",
     "start_time": "2024-11-25T15:24:20.305655Z"
    }
   },
   "cell_type": "code",
   "source": "text_splitter = CharacterTextSplitter(separator=\"\\n\",chunk_size=1000, chunk_overlap=150, length_function=len)",
   "id": "55d0932ca083f9ff",
   "outputs": [],
   "execution_count": 23
  },
  {
   "metadata": {
    "ExecuteTime": {
     "end_time": "2024-11-25T15:24:30.078406Z",
     "start_time": "2024-11-25T15:24:30.063817Z"
    }
   },
   "cell_type": "code",
   "source": [
    "docs = text_splitter.split_documents(pages)\n",
    "len(docs)"
   ],
   "id": "752c9b3d9d2680e1",
   "outputs": [
    {
     "data": {
      "text/plain": [
       "69"
      ]
     },
     "execution_count": 24,
     "metadata": {},
     "output_type": "execute_result"
    }
   ],
   "execution_count": 24
  },
  {
   "metadata": {
    "ExecuteTime": {
     "end_time": "2024-11-25T15:24:40.202881Z",
     "start_time": "2024-11-25T15:24:40.193858Z"
    }
   },
   "cell_type": "code",
   "source": "len(pages)",
   "id": "b897f37963cd2a3a",
   "outputs": [
    {
     "data": {
      "text/plain": [
       "30"
      ]
     },
     "execution_count": 25,
     "metadata": {},
     "output_type": "execute_result"
    }
   ],
   "execution_count": 25
  },
  {
   "metadata": {
    "ExecuteTime": {
     "end_time": "2024-11-25T15:24:49.199350Z",
     "start_time": "2024-11-25T15:24:49.193900Z"
    }
   },
   "cell_type": "code",
   "source": "pages[0]",
   "id": "26fbc6d5098d7fd7",
   "outputs": [
    {
     "data": {
      "text/plain": [
       "Document(metadata={'source': 'LectureNotes/cs229-notes1.pdf', 'page': 0}, page_content='CS229 Lecture notes\\nAndrew Ng\\nSupervised learning\\nLet’s start by talking about a few examples of supervised learning problems.\\nSuppose we have a dataset giving the living areas and prices of 47 hou ses\\nfrom Portland, Oregon:\\nLiving area (feet 2)\\nPrice (1000$s)\\n2104 400\\n1600 330\\n2400 369\\n1416 232\\n3000 540\\n.\\n.\\n.\\n.\\n.\\n.\\nWe can plot this data:\\n500 1000 1500 2000 2500 3000 3500 4000 4500 5000\\n0\\n100\\n200\\n300\\n400\\n500\\n600\\n700\\n800\\n900\\n1000\\nhousing prices\\nsquare feet\\nprice (in $1000)\\nGiven data like this, how can we learn to predict the prices of other ho uses\\nin Portland, as a function of the size of their living areas?\\n1')"
      ]
     },
     "execution_count": 26,
     "metadata": {},
     "output_type": "execute_result"
    }
   ],
   "execution_count": 26
  },
  {
   "metadata": {
    "ExecuteTime": {
     "end_time": "2024-11-25T15:24:52.875219Z",
     "start_time": "2024-11-25T15:24:52.863786Z"
    }
   },
   "cell_type": "code",
   "source": "docs[0]",
   "id": "7379b8669b415487",
   "outputs": [
    {
     "data": {
      "text/plain": [
       "Document(metadata={'source': 'LectureNotes/cs229-notes1.pdf', 'page': 0}, page_content='CS229 Lecture notes\\nAndrew Ng\\nSupervised learning\\nLet’s start by talking about a few examples of supervised learning problems.\\nSuppose we have a dataset giving the living areas and prices of 47 hou ses\\nfrom Portland, Oregon:\\nLiving area (feet 2)\\nPrice (1000$s)\\n2104 400\\n1600 330\\n2400 369\\n1416 232\\n3000 540\\n.\\n.\\n.\\n.\\n.\\n.\\nWe can plot this data:\\n500 1000 1500 2000 2500 3000 3500 4000 4500 5000\\n0\\n100\\n200\\n300\\n400\\n500\\n600\\n700\\n800\\n900\\n1000\\nhousing prices\\nsquare feet\\nprice (in $1000)\\nGiven data like this, how can we learn to predict the prices of other ho uses\\nin Portland, as a function of the size of their living areas?\\n1')"
      ]
     },
     "execution_count": 27,
     "metadata": {},
     "output_type": "execute_result"
    }
   ],
   "execution_count": 27
  },
  {
   "metadata": {
    "ExecuteTime": {
     "end_time": "2024-11-25T15:25:04.870820Z",
     "start_time": "2024-11-25T15:25:04.414153Z"
    }
   },
   "cell_type": "code",
   "source": [
    "from langchain.text_splitter import TokenTextSplitter\n",
    "text_splitter = TokenTextSplitter(chunk_size=2, chunk_overlap=0)"
   ],
   "id": "325fd089f4ac76c4",
   "outputs": [],
   "execution_count": 28
  },
  {
   "metadata": {
    "ExecuteTime": {
     "end_time": "2024-11-25T15:25:10.555771Z",
     "start_time": "2024-11-25T15:25:10.551993Z"
    }
   },
   "cell_type": "code",
   "source": "text1 = \"foo bar bazzyfoo\"",
   "id": "8eb0fd2e8bfbcb9a",
   "outputs": [],
   "execution_count": 29
  },
  {
   "metadata": {
    "ExecuteTime": {
     "end_time": "2024-11-25T15:25:15.847265Z",
     "start_time": "2024-11-25T15:25:15.841889Z"
    }
   },
   "cell_type": "code",
   "source": "text_splitter.split_text(text1)",
   "id": "974edef7ef41a9ef",
   "outputs": [
    {
     "data": {
      "text/plain": [
       "['foo bar', ' baz', 'zyfoo']"
      ]
     },
     "execution_count": 30,
     "metadata": {},
     "output_type": "execute_result"
    }
   ],
   "execution_count": 30
  },
  {
   "metadata": {
    "ExecuteTime": {
     "end_time": "2024-11-25T15:25:35.554123Z",
     "start_time": "2024-11-25T15:25:35.460276Z"
    }
   },
   "cell_type": "code",
   "source": [
    "text_splitter = TokenTextSplitter(chunk_size=10, chunk_overlap=0)\n",
    "docs = text_splitter.split_documents(pages)\n",
    "pages[1]"
   ],
   "id": "579b459daa2652b2",
   "outputs": [
    {
     "data": {
      "text/plain": [
       "Document(metadata={'source': 'LectureNotes/cs229-notes1.pdf', 'page': 1}, page_content='CS229 Fall 2012 2\\nTo establish notation for future use, we’ll use x(i) to denote the “input”\\nvariables (living area in this example), also called input features, and y(i)\\nto denote the “output” or target variable that we are trying to predict\\n(price). A pair ( x(i), y(i)) is called a training example , and the dataset\\nthat we’ll be using to learn—a list of m training examples {(x(i), y(i)); i =\\n1, . . . , m }—is called a training set . Note that the superscript “( i)” in the\\nnotation is simply an index into the training set, and has nothing to do w ith\\nexponentiation. We will also use X denote the space of input values, and Y\\nthe space of output values. In this example, X = Y = R.\\nTo describe the supervised learning problem slightly more formally, ou r\\ngoal is, given a training set, to learn a function h : X ↦→ Y so that h(x) is a\\n“good” predictor for the corresponding value of y. For historical reasons, this\\nfunction h is called a hypothesis. Seen pictorially, the process is therefore\\nlike this:\\nTraining \\n    set\\n house.)\\n(living area of\\nLearning \\nalgorithm\\nh predicted yx\\n(predicted price)\\nof house)\\nWhen the target variable that we’re trying to predict is continuous, such\\nas in our housing example, we call the learning problem a regression prob-\\nlem. When y can take on only a small number of discrete values (such as\\nif, given the living area, we wanted to predict if a dwelling is a house or an\\napartment, say), we call it aclassiﬁcation problem.')"
      ]
     },
     "execution_count": 32,
     "metadata": {},
     "output_type": "execute_result"
    }
   ],
   "execution_count": 32
  },
  {
   "metadata": {
    "ExecuteTime": {
     "end_time": "2024-11-25T15:25:46.019684Z",
     "start_time": "2024-11-25T15:25:46.014138Z"
    }
   },
   "cell_type": "code",
   "source": "pages[0].metadata",
   "id": "a2e7a5df42e0f87f",
   "outputs": [
    {
     "data": {
      "text/plain": [
       "{'source': 'LectureNotes/cs229-notes1.pdf', 'page': 0}"
      ]
     },
     "execution_count": 33,
     "metadata": {},
     "output_type": "execute_result"
    }
   ],
   "execution_count": 33
  },
  {
   "metadata": {
    "ExecuteTime": {
     "end_time": "2024-11-25T15:25:59.477099Z",
     "start_time": "2024-11-25T15:25:59.472648Z"
    }
   },
   "cell_type": "code",
   "source": [
    "from langchain.text_splitter import MarkdownHeaderTextSplitter\n",
    "markdown_document = \"\"\"# Title\\n\\n \\\n",
    "## Chapter 1\\n\\n \\\n",
    "Hi this is Jim\\n\\n Hi this is Joe\\n\\n \\\n",
    "### Section \\n\\n \\\n",
    "Hi this is Lance \\n\\n \n",
    "## Chapter 2\\n\\n \\\n",
    "Hi this is Molly\"\"\""
   ],
   "id": "94a77c33c57c3507",
   "outputs": [],
   "execution_count": 34
  },
  {
   "metadata": {
    "ExecuteTime": {
     "end_time": "2024-11-25T15:26:08.814370Z",
     "start_time": "2024-11-25T15:26:08.802937Z"
    }
   },
   "cell_type": "code",
   "source": [
    "headers_to_split_on = [\n",
    "    (\"#\", \"Header 1\"),\n",
    "    (\"##\", \"Header 2\"),\n",
    "    (\"###\", \"Header 3\"),\n",
    "]"
   ],
   "id": "e8b154ecdf86a51d",
   "outputs": [],
   "execution_count": 35
  },
  {
   "metadata": {
    "ExecuteTime": {
     "end_time": "2024-11-25T15:26:14.144821Z",
     "start_time": "2024-11-25T15:26:14.135778Z"
    }
   },
   "cell_type": "code",
   "source": [
    "markdown_splitter = MarkdownHeaderTextSplitter(\n",
    "    headers_to_split_on=headers_to_split_on\n",
    ")\n",
    "md_header_splits = markdown_splitter.split_text(markdown_document)"
   ],
   "id": "d995e377fb5d0b3d",
   "outputs": [],
   "execution_count": 36
  },
  {
   "metadata": {
    "ExecuteTime": {
     "end_time": "2024-11-25T15:26:26.359694Z",
     "start_time": "2024-11-25T15:26:26.354474Z"
    }
   },
   "cell_type": "code",
   "source": "md_header_splits[0]",
   "id": "5e95a268d0f7e637",
   "outputs": [
    {
     "data": {
      "text/plain": [
       "Document(metadata={'Header 1': 'Title', 'Header 2': 'Chapter 1'}, page_content='Hi this is Jim  \\nHi this is Joe')"
      ]
     },
     "execution_count": 37,
     "metadata": {},
     "output_type": "execute_result"
    }
   ],
   "execution_count": 37
  },
  {
   "metadata": {
    "ExecuteTime": {
     "end_time": "2024-11-25T15:26:27.906164Z",
     "start_time": "2024-11-25T15:26:27.892855Z"
    }
   },
   "cell_type": "code",
   "source": "md_header_splits[1]",
   "id": "b8d9b87d78d3d5b7",
   "outputs": [
    {
     "data": {
      "text/plain": [
       "Document(metadata={'Header 1': 'Title', 'Header 2': 'Chapter 1', 'Header 3': 'Section'}, page_content='Hi this is Lance')"
      ]
     },
     "execution_count": 38,
     "metadata": {},
     "output_type": "execute_result"
    }
   ],
   "execution_count": 38
  },
  {
   "metadata": {
    "ExecuteTime": {
     "end_time": "2024-11-25T15:26:35.862234Z",
     "start_time": "2024-11-25T15:26:35.852966Z"
    }
   },
   "cell_type": "code",
   "source": "md_header_splits[2]",
   "id": "fbf0cf5056213ab2",
   "outputs": [
    {
     "data": {
      "text/plain": [
       "Document(metadata={'Header 1': 'Title', 'Header 2': 'Chapter 2'}, page_content='Hi this is Molly')"
      ]
     },
     "execution_count": 39,
     "metadata": {},
     "output_type": "execute_result"
    }
   ],
   "execution_count": 39
  }
 ],
 "metadata": {
  "kernelspec": {
   "display_name": "Python 3",
   "language": "python",
   "name": "python3"
  },
  "language_info": {
   "codemirror_mode": {
    "name": "ipython",
    "version": 2
   },
   "file_extension": ".py",
   "mimetype": "text/x-python",
   "name": "python",
   "nbconvert_exporter": "python",
   "pygments_lexer": "ipython2",
   "version": "2.7.6"
  }
 },
 "nbformat": 4,
 "nbformat_minor": 5
}
