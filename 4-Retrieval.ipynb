{
 "cells": [
  {
   "metadata": {
    "ExecuteTime": {
     "end_time": "2024-11-25T15:50:41.646145Z",
     "start_time": "2024-11-25T15:50:41.631801Z"
    }
   },
   "cell_type": "code",
   "source": [
    "from dotenv import load_dotenv\n",
    "load_dotenv()"
   ],
   "id": "1a4851c35c9d222c",
   "outputs": [
    {
     "data": {
      "text/plain": [
       "True"
      ]
     },
     "execution_count": 1,
     "metadata": {},
     "output_type": "execute_result"
    }
   ],
   "execution_count": 1
  },
  {
   "metadata": {
    "ExecuteTime": {
     "end_time": "2024-11-25T15:50:41.666955Z",
     "start_time": "2024-11-25T15:50:41.664039Z"
    }
   },
   "cell_type": "code",
   "source": "persist_directory = 'docs/chroma'",
   "id": "d2e093be1617abd2",
   "outputs": [],
   "execution_count": 2
  },
  {
   "metadata": {
    "ExecuteTime": {
     "end_time": "2024-11-25T15:50:44.902622Z",
     "start_time": "2024-11-25T15:50:41.864089Z"
    }
   },
   "cell_type": "code",
   "source": [
    "from langchain.embeddings.openai import OpenAIEmbeddings\n",
    "from langchain.vectorstores import Chroma\n",
    "embedding = OpenAIEmbeddings()\n",
    "vectordb = Chroma(\n",
    "    persist_directory=persist_directory,\n",
    "    embedding_function=embedding\n",
    ")"
   ],
   "id": "37eda2ab1762e82d",
   "outputs": [
    {
     "name": "stderr",
     "output_type": "stream",
     "text": [
      "C:\\Users\\busra\\AppData\\Local\\Temp\\ipykernel_17956\\1787148411.py:3: LangChainDeprecationWarning: The class `OpenAIEmbeddings` was deprecated in LangChain 0.0.9 and will be removed in 1.0. An updated version of the class exists in the :class:`~langchain-openai package and should be used instead. To use it run `pip install -U :class:`~langchain-openai` and import as `from :class:`~langchain_openai import OpenAIEmbeddings``.\n",
      "  embedding = OpenAIEmbeddings()\n",
      "C:\\Users\\busra\\AppData\\Local\\Temp\\ipykernel_17956\\1787148411.py:4: LangChainDeprecationWarning: The class `Chroma` was deprecated in LangChain 0.2.9 and will be removed in 1.0. An updated version of the class exists in the :class:`~langchain-chroma package and should be used instead. To use it run `pip install -U :class:`~langchain-chroma` and import as `from :class:`~langchain_chroma import Chroma``.\n",
      "  vectordb = Chroma(\n"
     ]
    }
   ],
   "execution_count": 3
  },
  {
   "metadata": {
    "ExecuteTime": {
     "end_time": "2024-11-25T15:50:44.924684Z",
     "start_time": "2024-11-25T15:50:44.920363Z"
    }
   },
   "cell_type": "code",
   "source": [
    "texts = [\n",
    "    \"\"\"The Amanita phalloides has a large and imposing epigeous (aboveground) fruiting body (basidiocarp).\"\"\",\n",
    "    \"\"\"A mushroom with a large fruiting body is the Amanita phalloides. Some varieties are all-white.\"\"\",\n",
    "    \"\"\"A. phalloides, a.k.a Death Cap, is one of the most poisonous of all known mushrooms.\"\"\",\n",
    "]"
   ],
   "id": "74751256c925b0a2",
   "outputs": [],
   "execution_count": 4
  },
  {
   "metadata": {
    "ExecuteTime": {
     "end_time": "2024-11-25T15:50:47.056746Z",
     "start_time": "2024-11-25T15:50:44.932921Z"
    }
   },
   "cell_type": "code",
   "source": "smalldb = Chroma.from_texts(texts, embedding=embedding)",
   "id": "d6cdb3d72e8e4aa",
   "outputs": [],
   "execution_count": 5
  },
  {
   "metadata": {
    "ExecuteTime": {
     "end_time": "2024-11-25T15:50:47.071250Z",
     "start_time": "2024-11-25T15:50:47.067972Z"
    }
   },
   "cell_type": "code",
   "source": "question = 'Tell me about all-white mushrooms with large fruiting bodies'",
   "id": "3e8d1d9e557f3030",
   "outputs": [],
   "execution_count": 6
  },
  {
   "metadata": {
    "ExecuteTime": {
     "end_time": "2024-11-25T15:50:47.554668Z",
     "start_time": "2024-11-25T15:50:47.084103Z"
    }
   },
   "cell_type": "code",
   "source": "smalldb.similarity_search(question, k=2)",
   "id": "7e6ffef191583ef4",
   "outputs": [
    {
     "data": {
      "text/plain": [
       "[Document(metadata={}, page_content='A mushroom with a large fruiting body is the Amanita phalloides. Some varieties are all-white.'),\n",
       " Document(metadata={}, page_content='The Amanita phalloides has a large and imposing epigeous (aboveground) fruiting body (basidiocarp).')]"
      ]
     },
     "execution_count": 7,
     "metadata": {},
     "output_type": "execute_result"
    }
   ],
   "execution_count": 7
  },
  {
   "metadata": {
    "ExecuteTime": {
     "end_time": "2024-11-25T15:50:48.106917Z",
     "start_time": "2024-11-25T15:50:47.566703Z"
    }
   },
   "cell_type": "code",
   "source": "smalldb.max_marginal_relevance_search(question, k=2, fetch_k=3)",
   "id": "54d9eb8a80099314",
   "outputs": [
    {
     "data": {
      "text/plain": [
       "[Document(metadata={}, page_content='A mushroom with a large fruiting body is the Amanita phalloides. Some varieties are all-white.'),\n",
       " Document(metadata={}, page_content='A. phalloides, a.k.a Death Cap, is one of the most poisonous of all known mushrooms.')]"
      ]
     },
     "execution_count": 8,
     "metadata": {},
     "output_type": "execute_result"
    }
   ],
   "execution_count": 8
  },
  {
   "metadata": {
    "ExecuteTime": {
     "end_time": "2024-11-25T15:50:48.532646Z",
     "start_time": "2024-11-25T15:50:48.122594Z"
    }
   },
   "cell_type": "code",
   "source": [
    "question = \"what did they say about matlab?\"\n",
    "docs_ss = vectordb.similarity_search(question,k=3)"
   ],
   "id": "81c6a33b8bd513a6",
   "outputs": [],
   "execution_count": 9
  },
  {
   "metadata": {
    "ExecuteTime": {
     "end_time": "2024-11-25T15:50:48.550671Z",
     "start_time": "2024-11-25T15:50:48.543557Z"
    }
   },
   "cell_type": "code",
   "source": "docs_ss[0].page_content[:100]",
   "id": "d1f9957e739fdf35",
   "outputs": [
    {
     "data": {
      "text/plain": [
       "'that we saw earlier is known as a parametric learning algorithm, because\\nit has a ﬁxed, ﬁnite number'"
      ]
     },
     "execution_count": 10,
     "metadata": {},
     "output_type": "execute_result"
    }
   ],
   "execution_count": 10
  },
  {
   "metadata": {
    "ExecuteTime": {
     "end_time": "2024-11-25T15:50:48.584424Z",
     "start_time": "2024-11-25T15:50:48.572750Z"
    }
   },
   "cell_type": "code",
   "source": "docs_ss[1].page_content[:100]",
   "id": "f35362dac4ec711e",
   "outputs": [
    {
     "data": {
      "text/plain": [
       "'that we saw earlier is known as a parametric learning algorithm, because\\nit has a ﬁxed, ﬁnite number'"
      ]
     },
     "execution_count": 11,
     "metadata": {},
     "output_type": "execute_result"
    }
   ],
   "execution_count": 11
  },
  {
   "metadata": {
    "ExecuteTime": {
     "end_time": "2024-11-25T15:50:49.150396Z",
     "start_time": "2024-11-25T15:50:48.604307Z"
    }
   },
   "cell_type": "code",
   "source": [
    "docs_mmr = vectordb.max_marginal_relevance_search(question,k=3)\n",
    "docs_mmr[0].page_content[:100]"
   ],
   "id": "b2175cf3083d276b",
   "outputs": [
    {
     "data": {
      "text/plain": [
       "'that we saw earlier is known as a parametric learning algorithm, because\\nit has a ﬁxed, ﬁnite number'"
      ]
     },
     "execution_count": 12,
     "metadata": {},
     "output_type": "execute_result"
    }
   ],
   "execution_count": 12
  },
  {
   "metadata": {
    "ExecuteTime": {
     "end_time": "2024-11-25T15:50:49.180821Z",
     "start_time": "2024-11-25T15:50:49.172879Z"
    }
   },
   "cell_type": "code",
   "source": "docs_mmr[1].page_content[:100]",
   "id": "8c69c15ebd5b205e",
   "outputs": [
    {
     "data": {
      "text/plain": [
       "'9\\nWe now state without proof some facts of matrix derivatives (we wo n’t\\nneed some of these until la'"
      ]
     },
     "execution_count": 13,
     "metadata": {},
     "output_type": "execute_result"
    }
   ],
   "execution_count": 13
  },
  {
   "metadata": {
    "ExecuteTime": {
     "end_time": "2024-11-25T15:50:49.198430Z",
     "start_time": "2024-11-25T15:50:49.192605Z"
    }
   },
   "cell_type": "code",
   "source": "question = \"what did they say about regression in the third lecture?\"",
   "id": "dcc8f7b9de4885a0",
   "outputs": [],
   "execution_count": 14
  },
  {
   "metadata": {
    "ExecuteTime": {
     "end_time": "2024-11-25T15:50:49.444202Z",
     "start_time": "2024-11-25T15:50:49.212791Z"
    }
   },
   "cell_type": "code",
   "source": [
    "docs = vectordb.similarity_search(\n",
    "    question, k=3, \n",
    "    filter={\"source\":\"C1_W3.pdf\"}\n",
    ")"
   ],
   "id": "f13531e6dce9e05a",
   "outputs": [],
   "execution_count": 15
  },
  {
   "metadata": {
    "ExecuteTime": {
     "end_time": "2024-11-25T15:50:49.457444Z",
     "start_time": "2024-11-25T15:50:49.454214Z"
    }
   },
   "cell_type": "code",
   "source": [
    "for d in docs:\n",
    "    print(d.metadata)"
   ],
   "id": "855578a4bac35b06",
   "outputs": [],
   "execution_count": 16
  },
  {
   "metadata": {
    "ExecuteTime": {
     "end_time": "2024-11-25T15:50:49.824552Z",
     "start_time": "2024-11-25T15:50:49.467176Z"
    }
   },
   "cell_type": "code",
   "source": [
    "from langchain.retrievers.self_query.base import SelfQueryRetriever\n",
    "from langchain.chains.query_constructor.base import AttributeInfo"
   ],
   "id": "79f15b6f4eeb7d58",
   "outputs": [],
   "execution_count": 17
  },
  {
   "metadata": {
    "ExecuteTime": {
     "end_time": "2024-11-25T15:50:49.842138Z",
     "start_time": "2024-11-25T15:50:49.835605Z"
    }
   },
   "cell_type": "code",
   "source": [
    "metadata_field_info = [\n",
    "    AttributeInfo(\n",
    "        name='source',\n",
    "        description=\"The lecture the chunk is from, should be one of `C1_W1.pdf`, `C1_W2.pdf`, or `dC1_W3.pdf`\",\n",
    "        type='string'\n",
    "    ),\n",
    "    AttributeInfo(\n",
    "        name='page',\n",
    "        description='The page from the lecture',\n",
    "        type='integer'\n",
    "    ),\n",
    "]"
   ],
   "id": "3a52f385a087a022",
   "outputs": [],
   "execution_count": 18
  },
  {
   "metadata": {
    "ExecuteTime": {
     "end_time": "2024-11-25T15:50:49.857823Z",
     "start_time": "2024-11-25T15:50:49.853216Z"
    }
   },
   "cell_type": "code",
   "source": "import lark",
   "id": "867a91b9a80a4c10",
   "outputs": [],
   "execution_count": 19
  },
  {
   "metadata": {
    "ExecuteTime": {
     "end_time": "2024-11-25T15:50:50.997420Z",
     "start_time": "2024-11-25T15:50:49.869574Z"
    }
   },
   "cell_type": "code",
   "source": [
    "from langchain.llms import OpenAI\n",
    "document_content_description = \"Lecture notes\"\n",
    "llm = OpenAI(model='gpt-3.5-turbo-instruct', temperature=0)\n",
    "retriever = SelfQueryRetriever.from_llm(\n",
    "    llm,\n",
    "    vectordb,\n",
    "    document_content_description,\n",
    "    metadata_field_info,\n",
    "    verbose=True\n",
    ")"
   ],
   "id": "250ab2c3cf0252f8",
   "outputs": [
    {
     "name": "stderr",
     "output_type": "stream",
     "text": [
      "C:\\Users\\busra\\AppData\\Local\\Temp\\ipykernel_17956\\1028350957.py:3: LangChainDeprecationWarning: The class `OpenAI` was deprecated in LangChain 0.0.10 and will be removed in 1.0. An updated version of the class exists in the :class:`~langchain-openai package and should be used instead. To use it run `pip install -U :class:`~langchain-openai` and import as `from :class:`~langchain_openai import OpenAI``.\n",
      "  llm = OpenAI(model='gpt-3.5-turbo-instruct', temperature=0)\n"
     ]
    }
   ],
   "execution_count": 20
  },
  {
   "metadata": {
    "ExecuteTime": {
     "end_time": "2024-11-25T15:51:08.963289Z",
     "start_time": "2024-11-25T15:51:08.954016Z"
    }
   },
   "cell_type": "code",
   "source": "question = \"what did they say about regression in the third lecture?\"",
   "id": "b0dcb3ab181f4f4c",
   "outputs": [],
   "execution_count": 21
  },
  {
   "metadata": {
    "ExecuteTime": {
     "end_time": "2024-11-25T15:52:45.650654Z",
     "start_time": "2024-11-25T15:52:44.432633Z"
    }
   },
   "cell_type": "code",
   "source": "docs = retriever.get_relevant_documents(question)",
   "id": "4a5b3972ac5f5614",
   "outputs": [],
   "execution_count": 25
  },
  {
   "metadata": {
    "ExecuteTime": {
     "end_time": "2024-11-25T15:53:14.580412Z",
     "start_time": "2024-11-25T15:53:14.575017Z"
    }
   },
   "cell_type": "code",
   "source": [
    "from langchain.retrievers import ContextualCompressionRetriever\n",
    "from langchain.retrievers.document_compressors import LLMChainExtractor"
   ],
   "id": "cecd1d0a6ed71343",
   "outputs": [],
   "execution_count": 27
  },
  {
   "metadata": {
    "ExecuteTime": {
     "end_time": "2024-11-25T15:53:22.637934Z",
     "start_time": "2024-11-25T15:53:22.632987Z"
    }
   },
   "cell_type": "code",
   "source": [
    "def pretty_print_docs(docs):\n",
    "    print(f\"\\n{'-' * 100}\\n\".join([f\"Document {i+1}:\\n\\n\" + d.page_content for i, d in enumerate(docs)]))\n"
   ],
   "id": "22c39e0397f553a7",
   "outputs": [],
   "execution_count": 28
  },
  {
   "metadata": {
    "ExecuteTime": {
     "end_time": "2024-11-25T15:53:28.247222Z",
     "start_time": "2024-11-25T15:53:27.716327Z"
    }
   },
   "cell_type": "code",
   "source": [
    "llm = OpenAI(model='gpt-3.5-turbo-instruct')\n",
    "compressor = LLMChainExtractor.from_llm(llm)"
   ],
   "id": "b14bf73e161b6004",
   "outputs": [],
   "execution_count": 29
  },
  {
   "metadata": {
    "ExecuteTime": {
     "end_time": "2024-11-25T15:53:32.880941Z",
     "start_time": "2024-11-25T15:53:32.872809Z"
    }
   },
   "cell_type": "code",
   "source": [
    "compression_retriever = ContextualCompressionRetriever(\n",
    "    base_compressor=compressor,\n",
    "    base_retriever=vectordb.as_retriever()\n",
    ")"
   ],
   "id": "b995c62f6dd53367",
   "outputs": [],
   "execution_count": 30
  },
  {
   "metadata": {
    "ExecuteTime": {
     "end_time": "2024-11-25T15:54:30.957487Z",
     "start_time": "2024-11-25T15:54:25.584176Z"
    }
   },
   "cell_type": "code",
   "source": [
    "question = \"what did they say about matlab?\"\n",
    "compressed_docs = compression_retriever.get_relevant_documents(question)\n",
    "pretty_print_docs(compressed_docs)"
   ],
   "id": "a756812ef1b96dbf",
   "outputs": [
    {
     "name": "stdout",
     "output_type": "stream",
     "text": [
      "Document 1:\n",
      "\n",
      "- to make predictions using locally weighted linear regression, we need to keep the entire training set around.\n",
      "- The term “non-parametric” (roughly) refers to the fact that the amount of stuff we need to keep in order to represent the hypothesis h grows linearly with the size of the training set.\n",
      "----------------------------------------------------------------------------------------------------\n",
      "Document 2:\n",
      "\n",
      "None of the context is relevant.\n",
      "----------------------------------------------------------------------------------------------------\n",
      "Document 3:\n",
      "\n",
      "- \"In contrast, to make predictions using locally weighted linear regression, we need to keep the entire training set around.\"\n",
      "- \"The term “non-parametric” (roughly) refers to the fact that the amount of stuff we need to keep in order to represent the hypothesis h grows linearly with the size of the training set.\"\n"
     ]
    }
   ],
   "execution_count": 32
  },
  {
   "metadata": {
    "ExecuteTime": {
     "end_time": "2024-11-25T15:54:31.082052Z",
     "start_time": "2024-11-25T15:54:31.075067Z"
    }
   },
   "cell_type": "code",
   "source": [
    "compression_retriever = ContextualCompressionRetriever(\n",
    "    base_compressor=compressor,\n",
    "    base_retriever=vectordb.as_retriever(search_type = \"mmr\")\n",
    ")"
   ],
   "id": "ba61d2c9e293a6ad",
   "outputs": [],
   "execution_count": 33
  },
  {
   "metadata": {
    "ExecuteTime": {
     "end_time": "2024-11-25T15:54:49.062597Z",
     "start_time": "2024-11-25T15:54:41.790673Z"
    }
   },
   "cell_type": "code",
   "source": [
    "question = \"what did they say about matlab?\"\n",
    "compressed_docs = compression_retriever.get_relevant_documents(question)\n",
    "pretty_print_docs(compressed_docs)"
   ],
   "id": "90fea47802b644c",
   "outputs": [
    {
     "name": "stdout",
     "output_type": "stream",
     "text": [
      "Document 1:\n",
      "\n",
      "In cont rast, to make predictions using locally weighted linear regression, we need to k eep the entire training set around. The term “non-parametric” (roug hly) refers to the fact that the amount of stuﬀ we need to keep in order to rep resent the hypothesis h grows linearly with the size of the training set.\n",
      "----------------------------------------------------------------------------------------------------\n",
      "Document 2:\n",
      "\n",
      "Equation (1) above states that the ( i, j) entry of this matrix will be given by\n",
      "the ( i, j)-entry of BT , or equivalently, by Bji .\n",
      "The proofs of Equations (1-3) are reasonably simple, and are left a s an\n",
      "exercise to the reader.\n",
      "----------------------------------------------------------------------------------------------------\n",
      "Document 3:\n",
      "\n",
      "The perceptron was argued to be a rough model for how individual neurons in the brain work.\n",
      "----------------------------------------------------------------------------------------------------\n",
      "Document 4:\n",
      "\n",
      "\"In class, we also briefly talked about a couple of other examples of kernels.\"\n",
      "\"For instance, consider the digit recognition problem, in which given an image (16x16 pixels) of a handwritten digit (0-9), we have to figure out which digit it was.\"\n"
     ]
    }
   ],
   "execution_count": 34
  }
 ],
 "metadata": {
  "kernelspec": {
   "display_name": "Python 3 (ipykernel)",
   "language": "python",
   "name": "python3"
  },
  "language_info": {
   "codemirror_mode": {
    "name": "ipython",
    "version": 2
   },
   "file_extension": ".py",
   "mimetype": "text/x-python",
   "name": "python",
   "nbconvert_exporter": "python",
   "pygments_lexer": "ipython2",
   "version": "2.7.6"
  }
 },
 "nbformat": 4,
 "nbformat_minor": 5
}
